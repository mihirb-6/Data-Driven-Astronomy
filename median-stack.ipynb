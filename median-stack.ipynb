{
 "cells": [
  {
   "cell_type": "code",
   "execution_count": 5,
   "metadata": {},
   "outputs": [
    {
     "name": "stdout",
     "output_type": "stream",
     "text": [
      "(2.55, 5.175)\n",
      "(1.5, 1.5)\n"
     ]
    }
   ],
   "source": [
    "'''\n",
    "Write a function called list_stats that takes a list of numbers and \n",
    "returns a tuple of the median and mean of the list (in this order).\n",
    "'''\n",
    "# Write your list_stats function here.\n",
    "import numpy as np\n",
    "def list_stats(list):\n",
    "  mean = round(np.mean(list), 3)\n",
    "  median = round(np.median(list), 2)\n",
    "  return median, mean\n",
    "\n",
    "\n",
    "\n",
    "# You can use this to test your function.\n",
    "# Any code inside this `if` statement will be ignored by the automarker.\n",
    "if __name__ == '__main__':\n",
    "  # Run your function with the first example in the question.\n",
    "  m = list_stats([1.3, 2.4, 20.6, 0.95, 3.1, 2.7])\n",
    "  print(m)\n",
    "\n",
    "  # Run your function with the second example in the question\n",
    "  m = list_stats([1.5])\n",
    "  print(m)"
   ]
  },
  {
   "cell_type": "code",
   "execution_count": 6,
   "metadata": {},
   "outputs": [
    {
     "name": "stdout",
     "output_type": "stream",
     "text": [
      "0.069851s for statistics.mean\n",
      "0.000046s for np.mean\n"
     ]
    }
   ],
   "source": [
    "'''\n",
    "Write a time_stat function to time our statistic implementations.\n",
    "\n",
    "time_stat should take three arguments: \n",
    "the func function we're timing, \n",
    "the size of the random array to test, \n",
    "and the number of experiments to perform. \n",
    "It should return the average running time for the func function.\n",
    "'''\n",
    "\n",
    "import numpy as np\n",
    "import statistics\n",
    "import time\n",
    "\n",
    "def time_stat(func, size, ntrials):\n",
    "  total = 0\n",
    "  for i in range(ntrials):\n",
    "    # the time to generate the random array should not be included\n",
    "    data = np.random.rand(size)\n",
    "    # modify this function to time func with ntrials times using a new random array each time\n",
    "    start = time.perf_counter()\n",
    "    res = func(data)\n",
    "    total += time.perf_counter() - start\n",
    "    \n",
    "  \n",
    "  # return the average run time\n",
    "  return total/ntrials\n",
    "\n",
    "if __name__ == '__main__':\n",
    "  print('{:.6f}s for statistics.mean'.format(time_stat(statistics.mean, 10**5, 10)))\n",
    "  print('{:.6f}s for np.mean'.format(time_stat(np.mean, 10**5, 1000)))\n"
   ]
  },
  {
   "cell_type": "code",
   "execution_count": 9,
   "metadata": {},
   "outputs": [
    {
     "name": "stdout",
     "output_type": "stream",
     "text": [
      "0.010775766335427761 0.03369307518005371 625.0\n"
     ]
    }
   ],
   "source": [
    "import time, numpy as np\n",
    "from astropy.io import fits\n",
    "\n",
    "def median_fits(filenames):\n",
    "    start = time.time() # start timer\n",
    "    \n",
    "    # Read all FITS files and store in numpy array\n",
    "    FITS_list = []\n",
    "    for filename in filenames:\n",
    "        hdulist = fits.open(filename)\n",
    "        FITS_list.append(hdulist[0].data)\n",
    "        hdulist.close()\n",
    "    \n",
    "    # Stack images in 3d array for median calculation\n",
    "    FITS_stack = np.dstack(FITS_list)\n",
    "    \n",
    "    median = np.median(FITS_stack, axis=2) \n",
    "    \n",
    "    # Calculate the memory consumed by data\n",
    "    memory = FITS_stack.nbytes\n",
    "    memory /= 1024 # convert into kb\n",
    "    \n",
    "    stop = time.time() - start # stop timer\n",
    "    \n",
    "    return median, stop, memory\n",
    "\n",
    "if __name__ == '__main__':\n",
    "    result = median_fits(['image0.fits', 'image1.fits'])\n",
    "    print(result[0][100,100], result[1], result[2])\n",
    "          \n",
    "    #result = median_fits(['image{}.fits'.format(str(i)) for i in range(11)])\n",
    "    #print(result[0][100,100], result[1], result[2])"
   ]
  },
  {
   "cell_type": "code",
   "execution_count": 11,
   "metadata": {},
   "outputs": [
    {
     "name": "stdout",
     "output_type": "stream",
     "text": [
      "(2.5, 1.707825127659933, 0, array([2., 3., 0.]))\n",
      "2.5\n",
      "(3.875, 2.521780125229002, 3, array([0., 1., 1., 1.]))\n",
      "4.50544503130725\n"
     ]
    }
   ],
   "source": [
    "'''\n",
    "Binapprox:\n",
    "Let's implement the binapprox algorithm to calculate the median of a list of numbers.\n",
    "2 functions:\n",
    "median_bins; to calculate the mean, standard deviation and the bins\n",
    "median_approx; which calls median_bins and then calculates the approximated median\n",
    "'''\n",
    "import numpy as np\n",
    "\n",
    "def median_bins(values, B):\n",
    "  mean = np.mean(values)\n",
    "  std = np.std(values)\n",
    "  \n",
    "  left_bin = 0\n",
    "  bins = np.zeros(B)\n",
    "  bin_width = 2*std/B\n",
    "  \n",
    "  for value in values:\n",
    "    if value < mean - std:\n",
    "      left_bin += 1\n",
    "    elif value < mean + std:\n",
    "      bin = int((value - (mean-std))/bin_width)\n",
    "      bins[bin] += 1\n",
    "      \n",
    "  return mean, std, left_bin, bins\n",
    "\n",
    "def median_approx(values, B):\n",
    "  mean, std, left_bin, bins = median_bins(values, B)\n",
    "  \n",
    "  N = len(values)\n",
    "  mid = (N+1)/2\n",
    "  \n",
    "  count = left_bin\n",
    "  for b, bincount in enumerate(bins):\n",
    "    count += bincount\n",
    "    if count >= mid:\n",
    "      break\n",
    "      \n",
    "  width = 2*std/B\n",
    "  median = mean - std + width*(b+0.5)\n",
    "  \n",
    "  return median\n",
    "\n",
    "if __name__ == '__main__':\n",
    "  print(median_bins([1, 1, 3, 2, 2, 6], 3))\n",
    "  print(median_approx([1, 1, 3, 2, 2, 6], 3))\n",
    "\n",
    "  print(median_bins([1, 5, 7, 7, 3, 6, 1, 1], 4))\n",
    "  print(median_approx([1, 5, 7, 7, 3, 6, 1, 1], 4))"
   ]
  }
 ],
 "metadata": {
  "kernelspec": {
   "display_name": "Python 3",
   "language": "python",
   "name": "python3"
  },
  "language_info": {
   "codemirror_mode": {
    "name": "ipython",
    "version": 3
   },
   "file_extension": ".py",
   "mimetype": "text/x-python",
   "name": "python",
   "nbconvert_exporter": "python",
   "pygments_lexer": "ipython3",
   "version": "3.11.3"
  }
 },
 "nbformat": 4,
 "nbformat_minor": 2
}
